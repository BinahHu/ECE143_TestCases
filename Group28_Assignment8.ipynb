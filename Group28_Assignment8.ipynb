{
 "cells": [
  {
   "cell_type": "markdown",
   "metadata": {},
   "source": [
    "# Q1: Frobenius Solver\n",
    "The Frobenius equation is the Diophantine equation,\n",
    "\n",
    "$$a_1 x_1 +... + a_n x_n = b$$\n",
    "\n",
    "where $a_i> 0$ are positive integers, $b> 0$ is a positive integer, and the solution $x_i$ consists of non-negative integers. Here is a sample run,\n",
    "\n",
    "```python\n",
    ">>> solvefrob([1,2,3,5],10) \n",
    " [(0, 0, 0, 2), \n",
    "  (0, 1, 1, 1), \n",
    "  (0, 2, 2, 0), \n",
    "  (0, 5, 0, 0), \n",
    "  (1, 0, 3, 0), \n",
    "  (1, 2, 0, 1), \n",
    "  (1, 3, 1, 0), \n",
    "  (2, 0, 1, 1), \n",
    "  (2, 1, 2, 0), \n",
    "  (2, 4, 0, 0), \n",
    "  (3, 1, 0, 1), \n",
    "  (3, 2, 1, 0), \n",
    "  (4, 0, 2, 0), \n",
    "  (4, 3, 0, 0), \n",
    "  (5, 0, 0, 1), \n",
    "  (5, 1, 1, 0), \n",
    "  (6, 2, 0, 0), \n",
    "  (7, 0, 1, 0), \n",
    "  (8, 1, 0, 0), \n",
    "  (10, 0, 0, 0)] \n",
    "```\n",
    " \n",
    "Hint: Use Numpy broadcasting effectively. There is a timeout in the test-case, so if it takes too long to compute (e.g, you used too many for loops), it will be marked wrong. The function signature is `solvefrob(coefs,b)` where coefs is the list of $a_i$ coefficients. You can only use Numpy for this problem. No other third party packages."
   ]
  },
  {
   "cell_type": "markdown",
   "metadata": {},
   "source": [
    "**Validation Tests** <br>\n",
    "Check for corner cases and constraints in the inputs enlist all cases used for testing"
   ]
  },
  {
   "cell_type": "code",
   "execution_count": null,
   "metadata": {},
   "outputs": [],
   "source": [
    "assert isinstance(coefs, list)\n",
    "assert isinstance(b, int)\n",
    "assert b > 0\n",
    "assert len(coefs) > 0\n",
    "for coef in coefs:\n",
    "    assert isinstance(coef, int)\n",
    "    assert coef > 0"
   ]
  },
  {
   "cell_type": "markdown",
   "metadata": {},
   "source": [
    "**Functional Tests** <br>\n",
    "Check function output matches expected result enlist all cases used for testing"
   ]
  },
  {
   "cell_type": "code",
   "execution_count": null,
   "metadata": {},
   "outputs": [],
   "source": [
    "coefs = [3,6,9]\n",
    "b = 10\n",
    "assert [] == solvefrob(coefs, b)"
   ]
  },
  {
   "cell_type": "code",
   "execution_count": null,
   "metadata": {},
   "outputs": [],
   "source": [
    "coefs = [2,3,5,7]\n",
    "b = 20\n",
    "assert [(0, 0, 4, 0), (0, 1, 2, 1), (0, 2, 0, 2),\\\n",
    "        (0, 5, 1, 0), (1, 1, 3, 0), (1, 2, 1, 1),\\\n",
    "        (1, 6, 0, 0), (2, 2, 2, 0), (2, 3, 0, 1),\\\n",
    "        (3, 0, 0, 2), (3, 3, 1, 0), (4, 0, 1, 1),\\\n",
    "        (4, 4, 0, 0), (5, 0, 2, 0), (5, 1, 0, 1),\\\n",
    "        (6, 1, 1, 0), (7, 2, 0, 0), (10, 0, 0, 0)] == solvefrob(coefs, b)"
   ]
  },
  {
   "cell_type": "markdown",
   "metadata": {},
   "source": [
    "# Q2: Grid Path Searching\n",
    "A two dimensional grid has $M$ horizontal rows and $N$ vertical columns. Let $(i,j)$ denote the square at the $(i+1)^{th}$ row from the top and the $(j+1)^{th}$ column from the left i.e., they are 0-indexed.\n",
    "\n",
    "Within the grid, for each $i$ and $j (0\\leq i \\leq M−1, 0\\leq j\\leq N−1)$, there can only be two symbols # and . where # denotes a blockage and . denotes a passable opening. Starting at the upper left and only moving downwards and rightwards, find the number of connected paths between the top-left square and the bottom right square by traversing only the intermediate squares with the . symbol. The start and end positions are never be marked with #.\n",
    "\n",
    "### Example:\n",
    "\n",
    "$$M=3\\text{ and }N=4$$\n",
    "\n",
    "...#  \n",
    ".#..  \n",
    ".... \n",
    "\n",
    "calling `count_paths(3,4,[(0,3),(1,1)])` returns the answer is 3. Here is the function signature: `count_paths(m,n,blocks)` where m is the number of rows and n is the number of columns. The blocks variable is a list of tuples indicating the blocked # entries in the grid."
   ]
  },
  {
   "cell_type": "markdown",
   "metadata": {},
   "source": [
    "**Validation Tests** <br>\n",
    "Check for corner cases and constraints in the inputs enlist all cases used for testing"
   ]
  },
  {
   "cell_type": "code",
   "execution_count": null,
   "metadata": {},
   "outputs": [],
   "source": [
    "assert isinstance(m, int)\n",
    "assert isinstance(n, int)\n",
    "assert m > 0\n",
    "assert n > 0\n",
    "assert isinstance(blocks, list)\n",
    "for block in blocks:\n",
    "    assert isinstance(block, tuple)\n",
    "    assert len(block) == 2\n",
    "    x,y = block\n",
    "    assert isinstance(x, int)\n",
    "    assert isinstance(y, int)\n",
    "    assert 0 <= x < m\n",
    "    assert 0 <= y < n"
   ]
  },
  {
   "cell_type": "markdown",
   "metadata": {},
   "source": [
    "**Functional Tests** <br>\n",
    "Check function output matches expected result enlist all cases used for testing"
   ]
  },
  {
   "cell_type": "code",
   "execution_count": null,
   "metadata": {},
   "outputs": [],
   "source": [
    "m = 1\n",
    "n = 1\n",
    "blocks = []\n",
    "assert 1 == count_paths(m, n, blocks)"
   ]
  },
  {
   "cell_type": "code",
   "execution_count": null,
   "metadata": {},
   "outputs": [],
   "source": [
    "# Note for my teammates:\n",
    "# This case will not be tested on autograder, it will be ok if you can not pass this case\n",
    "\n",
    "m = 1000\n",
    "n = 1000\n",
    "blocks = []\n",
    "assert 512294053774259558362972111801106814506359401696197357133662490663268680890966422168317407249277190145438911035517264555381561230116189292650837306095363076178842645481320822198226994485371813976409676367032381831285411152247284028125396742405627998638503788368259307920236258027800099771751391617605088924033394630230806037178021722568614945945597158227817488131642780881551702876651234929533423690387735417418121162690198676382656195692212519230804188796272372873746380773141117366928488415626459630446598074332450038402866155063023175006229242447751399777865500335793470023989772130248615305440000 = count_paths(m,n,blocks)\n",
    "# If use DP algorithm, it is able to get this result within 1 second"
   ]
  },
  {
   "cell_type": "code",
   "execution_count": null,
   "metadata": {},
   "outputs": [],
   "source": [
    "m = 5\n",
    "n = 4\n",
    "blocks = [(0,0)]\n",
    "assert 0 == count_paths(m, n, blocks)"
   ]
  },
  {
   "cell_type": "code",
   "execution_count": null,
   "metadata": {},
   "outputs": [],
   "source": [
    "m = 5\n",
    "n = 4\n",
    "blocks = [(4,3)]\n",
    "assert 0 == count_paths(m, n, blocks)"
   ]
  },
  {
   "cell_type": "markdown",
   "metadata": {},
   "source": [
    "# Q3: Water Traps\n",
    "You are given an array of non-negative integers that represents a two-dimensional elevation map where each element is unit-width wall and the integer value is the height. Suppose rain fills all available gaps between two bordering walls.\n",
    "\n",
    "Compute how many units of water remain trapped between the walls in the map.\n",
    "\n",
    "For example, given the input [2, 1, 2], we can hold 1 unit of water in the middle. Here's another example for the sequence [3, 0, 1, 3, 0, 5] where the answer is 8.\n",
    "\n",
    "Here is the function signature `get_trapped_water(seq)` where seq is an input list, as in the examples."
   ]
  },
  {
   "cell_type": "markdown",
   "metadata": {},
   "source": [
    "**Validation Tests** <br>\n",
    "Check for corner cases and constraints in the inputs enlist all cases used for testing"
   ]
  },
  {
   "cell_type": "code",
   "execution_count": null,
   "metadata": {},
   "outputs": [],
   "source": [
    "assert isinstance(seq, list)\n",
    "for w in seq:\n",
    "    assert isinstance(w, int)\n",
    "    assert w >= 0"
   ]
  },
  {
   "cell_type": "markdown",
   "metadata": {},
   "source": [
    "**Functional Tests** <br>\n",
    "Check function output matches expected result enlist all cases used for testing"
   ]
  },
  {
   "cell_type": "code",
   "execution_count": null,
   "metadata": {},
   "outputs": [],
   "source": [
    "seq = [3, 0, 1, 3, 0, 5]\n",
    "assert 8 == get_trapped_water(seq)"
   ]
  },
  {
   "cell_type": "code",
   "execution_count": null,
   "metadata": {},
   "outputs": [],
   "source": [
    "seq = [0, 3, 0, 1, 3, 0, 5, 0]\n",
    "assert 8 == get_trapped_water(seq)"
   ]
  },
  {
   "cell_type": "code",
   "execution_count": null,
   "metadata": {},
   "outputs": [],
   "source": [
    "seq = [3, 0, 100, 0, 100, 0, 5]\n",
    "assert 108 == get_trapped_water(seq)"
   ]
  },
  {
   "cell_type": "code",
   "execution_count": null,
   "metadata": {},
   "outputs": [],
   "source": [
    "seq = [100,0,10,0,1]\n",
    "assert 11 == get_trapped_water(seq)"
   ]
  },
  {
   "cell_type": "code",
   "execution_count": null,
   "metadata": {},
   "outputs": [],
   "source": [
    "seq = [0,1,0,2,1,0,1,3,2,1,2,1]\n",
    "assert 6 == get_trapped_water(seq)"
   ]
  },
  {
   "cell_type": "markdown",
   "metadata": {},
   "source": [
    "# Q4: Next Permutation\n",
    "\n",
    "Given a permutation of any length, generate the next permutation in lexicographic order. For example, this are the permutations for [1,2,3] in lexicographic order.\n",
    "\n",
    "```python\n",
    ">>> list(it.permutations([1,2,3]))\n",
    " [(1, 2, 3), (1, 3, 2), (2, 1, 3), (2, 3, 1), (3, 1, 2), (3, 2, 1)] \n",
    "```\n",
    "Then, your function `next_permutation(t:tuple)->tuple` should do the following\n",
    "\n",
    "```python\n",
    ">>> next_permutation((2,3,1))\n",
    " (3,1,2) \n",
    "```\n",
    "\n",
    "Because (3,1,2) is the next permutation in lexicographic order. Here is another example:\n",
    "\n",
    "```python\n",
    ">>> next_permutation((0, 5, 2, 1, 4, 7, 3, 6))\n",
    " (0, 5, 2, 1, 4, 7, 6, 3) \n",
    "```\n",
    "\n",
    "Your function should work for **very** long input tuples so the autograder will time-out if you try to brute force your solution. The last permutation should wrap aruond to the first.\n",
    "\n",
    "```python\n",
    ">>> next_permutation((3,2,1,0))\n",
    " (0, 1, 2, 3)\n",
    "```"
   ]
  },
  {
   "cell_type": "markdown",
   "metadata": {},
   "source": [
    "**Validation Tests** <br>\n",
    "Check for corner cases and constraints in the inputs enlist all cases used for testing"
   ]
  },
  {
   "cell_type": "code",
   "execution_count": null,
   "metadata": {},
   "outputs": [],
   "source": [
    "assert isinstance(t, tuple)\n",
    "assert len(t) > 0\n",
    "s = set()\n",
    "for te in t:\n",
    "    assert isinstance(te, int)\n",
    "    assert te >= 0\n",
    "    s.add(te)\n",
    "assert len(s) == len(t)"
   ]
  },
  {
   "cell_type": "markdown",
   "metadata": {},
   "source": [
    "**Functional Tests** <br>\n",
    "Check function output matches expected result enlist all cases used for testing"
   ]
  },
  {
   "cell_type": "code",
   "execution_count": null,
   "metadata": {},
   "outputs": [],
   "source": [
    "t = (1,3,5,7,9)\n",
    "assert (1, 3, 5, 9, 7) == next_permutation(t)"
   ]
  },
  {
   "cell_type": "code",
   "execution_count": null,
   "metadata": {},
   "outputs": [],
   "source": [
    "t = (1,3,9,7,5)\n",
    "assert (1, 5, 3, 7, 9) == next_permutation(t)"
   ]
  },
  {
   "cell_type": "code",
   "execution_count": null,
   "metadata": {},
   "outputs": [],
   "source": [
    "t = (1)\n",
    "assert (1) == next_permutation(t)"
   ]
  },
  {
   "cell_type": "markdown",
   "metadata": {},
   "source": [
    "# Q5: Polynomial Class\n",
    "Create a Python class that can implement a univariate polynomial with degree at least one (`Polynomial`) over the field of integers (only!) with the following operations and interfaces.\n",
    "\n",
    "```python\n",
    ">>> p=Polynomial({0:8,1:2,3:4}) # keys are powers, values are coefficients\n",
    ">>> q=Polynomial({0:8,1:2,2:8,4:4})\n",
    ">>> repr(p)\n",
    " 8 + 2 x + 4 x^(3)\n",
    ">>> p*3 # integer multiply\n",
    " 24 + 6 x + 12 x^(3)\n",
    ">>> 3*p # multiplication is commutative!\n",
    " 24 + 6 x + 12 x^(3)\n",
    ">>> p+q # add two polynomials\n",
    "16 + 4 x + 8 x^(2) + 4 x^(3) + 4 x^(4)\n",
    ">>> p*4 + 5 - 3*p - 1 # compose operations and add/subtract constants\n",
    " 12 + 2 x + 4 x^(3)\n",
    ">>> type(p-p) # zero requires special handling but is still a Polynomial\n",
    " Polynomial\n",
    ">>> p*q # polynomial by polynomial multiplication works as usual\n",
    " 64 + 32 x + 68 x^(2) + 48 x^(3) + 40 x^(4) + 40 x^(5) + 16 x^(7)\n",
    ">>> p.subs(10) # substitute in integers and evaluate\n",
    " 4028\n",
    ">>> (p-p) == 0\n",
    " True\n",
    ">>> p == q\n",
    " False\n",
    ">>> p=Polynomial({0:8,1:0,3:4}) # keys are powers, values are coefficients\n",
    ">>> repr(p)\n",
    "'8 + 4 x^(3)'\n",
    ">>> p = Polynomial({2:1,0:-1})\n",
    ">>> q = Polynomial({1:1,0:-1})\n",
    ">>> p/q\n",
    " 1 + x\n",
    ">>> p  / Polynomial({1:1,0:-3}) # raises NotImplementedError\n",
    "```"
   ]
  },
  {
   "cell_type": "markdown",
   "metadata": {},
   "source": [
    "**Validation Tests** <br>\n",
    "Check for corner cases and constraints in the inputs enlist all cases used for testing"
   ]
  },
  {
   "cell_type": "code",
   "execution_count": null,
   "metadata": {},
   "outputs": [],
   "source": [
    "# Suppose the parameter in init function is 'din'\n",
    "assert isinstance(din, dict)\n",
    "for k,v in din.items():\n",
    "    assert isinstance(k, int)\n",
    "    assert isinstance(v, int)\n",
    "    assert k >= 0"
   ]
  },
  {
   "cell_type": "markdown",
   "metadata": {},
   "source": [
    "**Functional Tests** <br>\n",
    "Check function output matches expected result enlist all cases used for testing"
   ]
  },
  {
   "cell_type": "code",
   "execution_count": null,
   "metadata": {},
   "outputs": [],
   "source": [
    "assert '-1 + -2 x + -1 x^(2)' == repr(Polynomial({0:-1,1:-2,2:-1}))"
   ]
  },
  {
   "cell_type": "code",
   "execution_count": null,
   "metadata": {},
   "outputs": [],
   "source": [
    "assert '-6 + 7 x + 3 x^(2)' == repr(Polynomial({0:-6,1:19,2:-17,3:1,4:3}) / Polynomial({0:1,1:-2,2:1}))"
   ]
  },
  {
   "cell_type": "code",
   "execution_count": null,
   "metadata": {},
   "outputs": [],
   "source": [
    "assert '-2' == repr(Polynomial({0: 8, 1: 2, 3: 4}) - Polynomial({0: 10, 1: 2, 3: 4}))"
   ]
  },
  {
   "cell_type": "code",
   "execution_count": null,
   "metadata": {},
   "outputs": [],
   "source": [
    "assert '0' == repr(Polynomial({0:0}))"
   ]
  },
  {
   "cell_type": "code",
   "execution_count": null,
   "metadata": {},
   "outputs": [],
   "source": [
    "assert 'x' == repr(Polynomial({0:0,1:1}))"
   ]
  },
  {
   "cell_type": "markdown",
   "metadata": {},
   "source": [
    "# Q6: Convex Cover\n",
    "Given a irregular, closed, convex polygon $\\mathscr{P}$ with $n−1$ sides and $m$ circle-centers ${(x_i,y_i)}_i^m$ contained within that polygon, compute the radii, $0\\leq r_i$, of $m$ circles centered at those $m$ points such that the sum of the areas of the circles is minimized (approximately) and that any vertex in $\\mathscr{P}$ is also contained in at least one of the $m$ circles.\n",
    "\n",
    "Here is the function signature: `find_convex_cover(pvertices,clist)` where pvertices is a $(n−1)$\n",
    "-long iterable of polygon vertices and clist is a list of $(x_i,y_i)$\n",
    " tuples of circle-centers. The output of find_convex_cover is a $m$ long list of radii, $r_i$, corresponding to the $m$ circle-centers.\n",
    "\n",
    "### Example:\n",
    "```python\n",
    ">>> pvertices = array([[ 0.573,  0.797],           \n",
    "                        [ 0.688,  0.402],                                                              \n",
    "                        [ 0.747,  0.238],                                                              \n",
    "                        [ 0.802,  0.426],                                                              \n",
    "                        [ 0.757,  0.796],                                                              \n",
    "                        [ 0.589,  0.811]])                                                             \n",
    "                                                                                                       \n",
    " >>> clist = [(0.7490863467660889, 0.4917635308023209),                                       \n",
    "              (0.6814339441396109, 0.6199470305156477),                                                \n",
    "              (0.7241617773773865, 0.6982813914515696),                                                \n",
    "              (0.6600700275207232, 0.7516911829987891),                                                \n",
    "              (0.6315848053622062, 0.7730550996176769),                                                \n",
    "              (0.7348437356868305, 0.41342916986639894),                                               \n",
    "              (0.7597683050755328, 0.31729154508140384)]                                               \n",
    "                                                                                                       \n",
    " >>> find_convex_cover(pvertices,clist) # note some radii == 0                                \n",
    " [0, 0, 0.10297280518543134, 0, 0.06374182913818943, 0.0684588720095565, 0.07987784828713643]          \n",
    "```\n",
    "\n",
    "### Hints:\n",
    "\n",
    "\n",
    "- $m$ can be very large so use Numpy broadcasting effectively.\n",
    "- For your own understanding, use Matplotlib to visualize the polygons and circles.\n",
    "- Numpy is the only third-party module you can use with this assignment.\n",
    "- Since the $n$-polygon is closed, the first and last vertices are the same so that only $n−1$ vertices need be specified.\n",
    "- Your solution can be an approximation to the minimum.\n"
   ]
  },
  {
   "cell_type": "markdown",
   "metadata": {},
   "source": [
    "**Validation Tests** <br>\n",
    "Check for corner cases and constraints in the inputs enlist all cases used for testing"
   ]
  },
  {
   "cell_type": "code",
   "execution_count": null,
   "metadata": {},
   "outputs": [],
   "source": [
    "assert isinstance(pvertices, Iterable)\n",
    "for c in clist:\n",
    "    assert isinstance(c, tuple)\n",
    "    assert len(c) == 2\n",
    "    x,y = c\n",
    "    assert isinstance(x, float) or isinstance(x, int)\n",
    "    assert isinstance(y, float) or isinstance(y, int)"
   ]
  },
  {
   "cell_type": "markdown",
   "metadata": {},
   "source": [
    "**Functional Tests** <br>\n",
    "Check function output matches expected result enlist all cases used for testing"
   ]
  },
  {
   "cell_type": "code",
   "execution_count": null,
   "metadata": {},
   "outputs": [],
   "source": [
    "# Note for my teammates:\n",
    "# This case will not be tested on autograder, it will be ok if you can not pass this case\n",
    "\n",
    "EPS = 1e-2\n",
    "PI = 3.141592653589793\n",
    "pvertices = np.array([[0,1], [0,-1], [1,0], [-1,0]])\n",
    "clist = [(0,0.01), (0,-0.01), (0.01,0), (-0.01,0), (0,0)]\n",
    "\n",
    "# Ground truth radius should be [0,0,0,0,1]\n",
    "gt_area = PI\n",
    "radius = find_convex_cover(pvertices,clist)\n",
    "pred_area = 0\n",
    "for r in radius:\n",
    "    pred_area += PI * r * r\n",
    "assert abs(pred_area-gt_area) < EPS"
   ]
  }
 ],
 "metadata": {
  "kernelspec": {
   "display_name": "Python 3",
   "language": "python",
   "name": "python3"
  },
  "language_info": {
   "codemirror_mode": {
    "name": "ipython",
    "version": 3
   },
   "file_extension": ".py",
   "mimetype": "text/x-python",
   "name": "python",
   "nbconvert_exporter": "python",
   "pygments_lexer": "ipython3",
   "version": "3.8.5"
  }
 },
 "nbformat": 4,
 "nbformat_minor": 4
}
